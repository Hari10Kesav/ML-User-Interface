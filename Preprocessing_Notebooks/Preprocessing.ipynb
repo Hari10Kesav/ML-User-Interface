{
 "cells": [
  {
   "cell_type": "code",
   "execution_count": 1,
   "id": "initial_id",
   "metadata": {
    "collapsed": true,
    "ExecuteTime": {
     "end_time": "2023-10-30T18:13:26.106894Z",
     "start_time": "2023-10-30T18:13:25.575696Z"
    }
   },
   "outputs": [],
   "source": [
    "import matplotlib.pyplot as plt\n",
    "import pandas as pd"
   ]
  },
  {
   "cell_type": "code",
   "execution_count": 2,
   "outputs": [
    {
     "data": {
      "text/plain": "         date  store  item  sales\n0  2013-01-01      1     1     13\n1  2013-01-02      1     1     11\n2  2013-01-03      1     1     14\n3  2013-01-04      1     1     13\n4  2013-01-05      1     1     10",
      "text/html": "<div>\n<style scoped>\n    .dataframe tbody tr th:only-of-type {\n        vertical-align: middle;\n    }\n\n    .dataframe tbody tr th {\n        vertical-align: top;\n    }\n\n    .dataframe thead th {\n        text-align: right;\n    }\n</style>\n<table border=\"1\" class=\"dataframe\">\n  <thead>\n    <tr style=\"text-align: right;\">\n      <th></th>\n      <th>date</th>\n      <th>store</th>\n      <th>item</th>\n      <th>sales</th>\n    </tr>\n  </thead>\n  <tbody>\n    <tr>\n      <th>0</th>\n      <td>2013-01-01</td>\n      <td>1</td>\n      <td>1</td>\n      <td>13</td>\n    </tr>\n    <tr>\n      <th>1</th>\n      <td>2013-01-02</td>\n      <td>1</td>\n      <td>1</td>\n      <td>11</td>\n    </tr>\n    <tr>\n      <th>2</th>\n      <td>2013-01-03</td>\n      <td>1</td>\n      <td>1</td>\n      <td>14</td>\n    </tr>\n    <tr>\n      <th>3</th>\n      <td>2013-01-04</td>\n      <td>1</td>\n      <td>1</td>\n      <td>13</td>\n    </tr>\n    <tr>\n      <th>4</th>\n      <td>2013-01-05</td>\n      <td>1</td>\n      <td>1</td>\n      <td>10</td>\n    </tr>\n  </tbody>\n</table>\n</div>"
     },
     "execution_count": 2,
     "metadata": {},
     "output_type": "execute_result"
    }
   ],
   "source": [
    "total_df = pd.read_csv(\"../data/train.csv\")\n",
    "total_df.head()"
   ],
   "metadata": {
    "collapsed": false,
    "ExecuteTime": {
     "end_time": "2023-10-30T18:13:26.206189Z",
     "start_time": "2023-10-30T18:13:26.107846Z"
    }
   },
   "id": "456a4039bae92b05"
  },
  {
   "cell_type": "code",
   "execution_count": 3,
   "outputs": [
    {
     "data": {
      "text/plain": "array([ 1,  2,  3,  4,  5,  6,  7,  8,  9, 10, 11, 12, 13, 14, 15, 16, 17,\n       18, 19, 20, 21, 22, 23, 24, 25, 26, 27, 28, 29, 30, 31, 32, 33, 34,\n       35, 36, 37, 38, 39, 40, 41, 42, 43, 44, 45, 46, 47, 48, 49, 50])"
     },
     "execution_count": 3,
     "metadata": {},
     "output_type": "execute_result"
    }
   ],
   "source": [
    "total_df[\"item\"].unique()"
   ],
   "metadata": {
    "collapsed": false,
    "ExecuteTime": {
     "end_time": "2023-10-30T18:13:26.210241Z",
     "start_time": "2023-10-30T18:13:26.205459Z"
    }
   },
   "id": "6256e61b463a2cbe"
  },
  {
   "cell_type": "code",
   "execution_count": 4,
   "outputs": [
    {
     "data": {
      "text/plain": "array([ 1,  2,  3,  4,  5,  6,  7,  8,  9, 10])"
     },
     "execution_count": 4,
     "metadata": {},
     "output_type": "execute_result"
    }
   ],
   "source": [
    "total_df[\"store\"].unique()"
   ],
   "metadata": {
    "collapsed": false,
    "ExecuteTime": {
     "end_time": "2023-10-30T18:13:26.215331Z",
     "start_time": "2023-10-30T18:13:26.210365Z"
    }
   },
   "id": "a9e351e676a7c3de"
  },
  {
   "cell_type": "markdown",
   "source": [
    "**This shows that there are 50 different items in 10 different stores ranging from item 1 to item 50**"
   ],
   "metadata": {
    "collapsed": false
   },
   "id": "b7d47e8c4c87f9b4"
  },
  {
   "cell_type": "markdown",
   "source": [
    "## Preprocessing: Splitting the \"date\" column into useful information"
   ],
   "metadata": {
    "collapsed": false
   },
   "id": "ef2f7b21268ca1d9"
  },
  {
   "cell_type": "code",
   "execution_count": 13,
   "outputs": [],
   "source": [
    "total_df[\"year\"] = total_df[\"date\"].apply(lambda x: int(x.split(\"-\")[0]))"
   ],
   "metadata": {
    "collapsed": false,
    "ExecuteTime": {
     "end_time": "2023-10-30T18:21:11.313732Z",
     "start_time": "2023-10-30T18:21:11.098351Z"
    }
   },
   "id": "419cb83ecd7d58"
  },
  {
   "cell_type": "code",
   "execution_count": 15,
   "outputs": [],
   "source": [
    "total_df[\"month\"] = total_df[\"date\"].apply(lambda x: int(x.split(\"-\")[1]))\n",
    "total_df[\"day\"] = total_df[\"date\"].apply(lambda x: int(x.split(\"-\")[2]))"
   ],
   "metadata": {
    "collapsed": false,
    "ExecuteTime": {
     "end_time": "2023-10-30T18:21:59.496265Z",
     "start_time": "2023-10-30T18:21:59.102125Z"
    }
   },
   "id": "2cd212c4f6a4fd5d"
  },
  {
   "cell_type": "code",
   "execution_count": 16,
   "outputs": [
    {
     "data": {
      "text/plain": "         date  store  item  sales  year  month  day\n0  2013-01-01      1     1     13  2013      1    1\n1  2013-01-02      1     1     11  2013      1    2\n2  2013-01-03      1     1     14  2013      1    3\n3  2013-01-04      1     1     13  2013      1    4\n4  2013-01-05      1     1     10  2013      1    5",
      "text/html": "<div>\n<style scoped>\n    .dataframe tbody tr th:only-of-type {\n        vertical-align: middle;\n    }\n\n    .dataframe tbody tr th {\n        vertical-align: top;\n    }\n\n    .dataframe thead th {\n        text-align: right;\n    }\n</style>\n<table border=\"1\" class=\"dataframe\">\n  <thead>\n    <tr style=\"text-align: right;\">\n      <th></th>\n      <th>date</th>\n      <th>store</th>\n      <th>item</th>\n      <th>sales</th>\n      <th>year</th>\n      <th>month</th>\n      <th>day</th>\n    </tr>\n  </thead>\n  <tbody>\n    <tr>\n      <th>0</th>\n      <td>2013-01-01</td>\n      <td>1</td>\n      <td>1</td>\n      <td>13</td>\n      <td>2013</td>\n      <td>1</td>\n      <td>1</td>\n    </tr>\n    <tr>\n      <th>1</th>\n      <td>2013-01-02</td>\n      <td>1</td>\n      <td>1</td>\n      <td>11</td>\n      <td>2013</td>\n      <td>1</td>\n      <td>2</td>\n    </tr>\n    <tr>\n      <th>2</th>\n      <td>2013-01-03</td>\n      <td>1</td>\n      <td>1</td>\n      <td>14</td>\n      <td>2013</td>\n      <td>1</td>\n      <td>3</td>\n    </tr>\n    <tr>\n      <th>3</th>\n      <td>2013-01-04</td>\n      <td>1</td>\n      <td>1</td>\n      <td>13</td>\n      <td>2013</td>\n      <td>1</td>\n      <td>4</td>\n    </tr>\n    <tr>\n      <th>4</th>\n      <td>2013-01-05</td>\n      <td>1</td>\n      <td>1</td>\n      <td>10</td>\n      <td>2013</td>\n      <td>1</td>\n      <td>5</td>\n    </tr>\n  </tbody>\n</table>\n</div>"
     },
     "execution_count": 16,
     "metadata": {},
     "output_type": "execute_result"
    }
   ],
   "source": [
    "total_df.head()"
   ],
   "metadata": {
    "collapsed": false,
    "ExecuteTime": {
     "end_time": "2023-10-30T18:22:00.468604Z",
     "start_time": "2023-10-30T18:22:00.463331Z"
    }
   },
   "id": "f52da4344bcfcc28"
  },
  {
   "cell_type": "code",
   "execution_count": 5,
   "outputs": [],
   "source": [
    "store_1 = total_df[total_df[\"store\"] == 1]"
   ],
   "metadata": {
    "collapsed": false,
    "ExecuteTime": {
     "end_time": "2023-10-30T18:13:26.220849Z",
     "start_time": "2023-10-30T18:13:26.215919Z"
    }
   },
   "id": "2381f16499e80920"
  },
  {
   "cell_type": "code",
   "execution_count": 6,
   "outputs": [
    {
     "data": {
      "text/plain": "              date  store  item  sales\n0       2013-01-01      1     1     13\n1       2013-01-02      1     1     11\n2       2013-01-03      1     1     14\n3       2013-01-04      1     1     13\n4       2013-01-05      1     1     10\n...            ...    ...   ...    ...\n896561  2017-12-27      1    50     38\n896562  2017-12-28      1    50     52\n896563  2017-12-29      1    50     59\n896564  2017-12-30      1    50     66\n896565  2017-12-31      1    50     45\n\n[91300 rows x 4 columns]",
      "text/html": "<div>\n<style scoped>\n    .dataframe tbody tr th:only-of-type {\n        vertical-align: middle;\n    }\n\n    .dataframe tbody tr th {\n        vertical-align: top;\n    }\n\n    .dataframe thead th {\n        text-align: right;\n    }\n</style>\n<table border=\"1\" class=\"dataframe\">\n  <thead>\n    <tr style=\"text-align: right;\">\n      <th></th>\n      <th>date</th>\n      <th>store</th>\n      <th>item</th>\n      <th>sales</th>\n    </tr>\n  </thead>\n  <tbody>\n    <tr>\n      <th>0</th>\n      <td>2013-01-01</td>\n      <td>1</td>\n      <td>1</td>\n      <td>13</td>\n    </tr>\n    <tr>\n      <th>1</th>\n      <td>2013-01-02</td>\n      <td>1</td>\n      <td>1</td>\n      <td>11</td>\n    </tr>\n    <tr>\n      <th>2</th>\n      <td>2013-01-03</td>\n      <td>1</td>\n      <td>1</td>\n      <td>14</td>\n    </tr>\n    <tr>\n      <th>3</th>\n      <td>2013-01-04</td>\n      <td>1</td>\n      <td>1</td>\n      <td>13</td>\n    </tr>\n    <tr>\n      <th>4</th>\n      <td>2013-01-05</td>\n      <td>1</td>\n      <td>1</td>\n      <td>10</td>\n    </tr>\n    <tr>\n      <th>...</th>\n      <td>...</td>\n      <td>...</td>\n      <td>...</td>\n      <td>...</td>\n    </tr>\n    <tr>\n      <th>896561</th>\n      <td>2017-12-27</td>\n      <td>1</td>\n      <td>50</td>\n      <td>38</td>\n    </tr>\n    <tr>\n      <th>896562</th>\n      <td>2017-12-28</td>\n      <td>1</td>\n      <td>50</td>\n      <td>52</td>\n    </tr>\n    <tr>\n      <th>896563</th>\n      <td>2017-12-29</td>\n      <td>1</td>\n      <td>50</td>\n      <td>59</td>\n    </tr>\n    <tr>\n      <th>896564</th>\n      <td>2017-12-30</td>\n      <td>1</td>\n      <td>50</td>\n      <td>66</td>\n    </tr>\n    <tr>\n      <th>896565</th>\n      <td>2017-12-31</td>\n      <td>1</td>\n      <td>50</td>\n      <td>45</td>\n    </tr>\n  </tbody>\n</table>\n<p>91300 rows × 4 columns</p>\n</div>"
     },
     "execution_count": 6,
     "metadata": {},
     "output_type": "execute_result"
    }
   ],
   "source": [
    "store_1"
   ],
   "metadata": {
    "collapsed": false,
    "ExecuteTime": {
     "end_time": "2023-10-30T18:13:26.229651Z",
     "start_time": "2023-10-30T18:13:26.223014Z"
    }
   },
   "id": "a518fe65b7651c2b"
  },
  {
   "cell_type": "code",
   "execution_count": 7,
   "outputs": [
    {
     "data": {
      "text/plain": "array([1])"
     },
     "execution_count": 7,
     "metadata": {},
     "output_type": "execute_result"
    }
   ],
   "source": [
    "store_1[\"store\"].unique()"
   ],
   "metadata": {
    "collapsed": false,
    "ExecuteTime": {
     "end_time": "2023-10-30T18:13:26.234938Z",
     "start_time": "2023-10-30T18:13:26.225269Z"
    }
   },
   "id": "c2f8854c1987822c"
  },
  {
   "cell_type": "code",
   "execution_count": 8,
   "outputs": [],
   "source": [
    "store_1_item_1 = store_1[store_1[\"item\"] == 1]"
   ],
   "metadata": {
    "collapsed": false,
    "ExecuteTime": {
     "end_time": "2023-10-30T18:13:26.241112Z",
     "start_time": "2023-10-30T18:13:26.228169Z"
    }
   },
   "id": "70532cbb109c76c8"
  },
  {
   "cell_type": "code",
   "execution_count": 9,
   "outputs": [
    {
     "data": {
      "text/plain": "         date  store  item  sales\n0  2013-01-01      1     1     13\n1  2013-01-02      1     1     11\n2  2013-01-03      1     1     14\n3  2013-01-04      1     1     13\n4  2013-01-05      1     1     10",
      "text/html": "<div>\n<style scoped>\n    .dataframe tbody tr th:only-of-type {\n        vertical-align: middle;\n    }\n\n    .dataframe tbody tr th {\n        vertical-align: top;\n    }\n\n    .dataframe thead th {\n        text-align: right;\n    }\n</style>\n<table border=\"1\" class=\"dataframe\">\n  <thead>\n    <tr style=\"text-align: right;\">\n      <th></th>\n      <th>date</th>\n      <th>store</th>\n      <th>item</th>\n      <th>sales</th>\n    </tr>\n  </thead>\n  <tbody>\n    <tr>\n      <th>0</th>\n      <td>2013-01-01</td>\n      <td>1</td>\n      <td>1</td>\n      <td>13</td>\n    </tr>\n    <tr>\n      <th>1</th>\n      <td>2013-01-02</td>\n      <td>1</td>\n      <td>1</td>\n      <td>11</td>\n    </tr>\n    <tr>\n      <th>2</th>\n      <td>2013-01-03</td>\n      <td>1</td>\n      <td>1</td>\n      <td>14</td>\n    </tr>\n    <tr>\n      <th>3</th>\n      <td>2013-01-04</td>\n      <td>1</td>\n      <td>1</td>\n      <td>13</td>\n    </tr>\n    <tr>\n      <th>4</th>\n      <td>2013-01-05</td>\n      <td>1</td>\n      <td>1</td>\n      <td>10</td>\n    </tr>\n  </tbody>\n</table>\n</div>"
     },
     "execution_count": 9,
     "metadata": {},
     "output_type": "execute_result"
    }
   ],
   "source": [
    "store_1_item_1.head()"
   ],
   "metadata": {
    "collapsed": false,
    "ExecuteTime": {
     "end_time": "2023-10-30T18:13:26.253319Z",
     "start_time": "2023-10-30T18:13:26.231878Z"
    }
   },
   "id": "ebe760e1e8d449cc"
  },
  {
   "cell_type": "markdown",
   "source": [
    "## Visualization: Plotting the sales value for (store_1, item_1) to check seasonality of data"
   ],
   "metadata": {
    "collapsed": false
   },
   "id": "609d30f6e766d711"
  },
  {
   "cell_type": "code",
   "execution_count": 10,
   "outputs": [
    {
     "data": {
      "text/plain": "<Figure size 640x480 with 1 Axes>",
      "image/png": "[encoded data removed]"
     },
     "metadata": {},
     "output_type": "display_data"
    }
   ],
   "source": [
    "plt.plot(store_1_item_1[\"sales\"])\n",
    "plt.xlabel(\"Date\")\n",
    "plt.ylabel(\"Sales\")\n",
    "plt.title(\"Plot for Sales of item1 in store1\")\n",
    "plt.show()"
   ],
   "metadata": {
    "collapsed": false,
    "ExecuteTime": {
     "end_time": "2023-10-30T18:13:26.321009Z",
     "start_time": "2023-10-30T18:13:26.234242Z"
    }
   },
   "id": "bb4ba25c8fbacaff"
  },
  {
   "cell_type": "markdown",
   "source": [
    "### The plot indicates that the data is a time-series data as well as a periodic data. The fact that it is time-series, we can use ARIMA model and the seasonal property indicates that SARIMA model can be used"
   ],
   "metadata": {
    "collapsed": false
   },
   "id": "4380d54dadf72286"
  },
  {
   "cell_type": "markdown",
   "source": [
    "## Visualization: Box Plot for Sales Distribution"
   ],
   "metadata": {
    "collapsed": false
   },
   "id": "9e45e15c96710d3a"
  },
  {
   "cell_type": "code",
   "execution_count": 18,
   "outputs": [
    {
     "data": {
      "text/plain": "<Figure size 640x480 with 1 Axes>",
      "image/png": "[encoded data removed]"
     },
     "metadata": {},
     "output_type": "display_data"
    }
   ],
   "source": [
    "plt.boxplot(total_df[\"sales\"])\n",
    "plt.show()"
   ],
   "metadata": {
    "collapsed": false,
    "ExecuteTime": {
     "end_time": "2023-10-30T18:54:52.169692Z",
     "start_time": "2023-10-30T18:54:52.065136Z"
    }
   },
   "id": "a24fc6bb87d07632"
  },
  {
   "cell_type": "markdown",
   "source": [
    "Even though we see datapoints for sales data lying above the 1.5*IQR margin, these datapoints lead to the periodicity and flactuation in a time-series data"
   ],
   "metadata": {
    "collapsed": false
   },
   "id": "c6c0b412b4ecca12"
  },
  {
   "cell_type": "code",
   "execution_count": null,
   "outputs": [],
   "source": [],
   "metadata": {
    "collapsed": false
   },
   "id": "4cf360b672736a9a"
  }
 ],
 "metadata": {
  "kernelspec": {
   "display_name": "Python 3",
   "language": "python",
   "name": "python3"
  },
  "language_info": {
   "codemirror_mode": {
    "name": "ipython",
    "version": 2
   },
   "file_extension": ".py",
   "mimetype": "text/x-python",
   "name": "python",
   "nbconvert_exporter": "python",
   "pygments_lexer": "ipython2",
   "version": "2.7.6"
  }
 },
 "nbformat": 4,
 "nbformat_minor": 5
}
