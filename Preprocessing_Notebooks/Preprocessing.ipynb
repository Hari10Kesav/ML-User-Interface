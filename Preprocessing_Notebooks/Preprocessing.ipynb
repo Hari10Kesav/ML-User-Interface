{
 "cells": [
  {
   "cell_type": "code",
   "execution_count": 1,
   "id": "initial_id",
   "metadata": {
    "ExecuteTime": {
     "end_time": "2023-10-31T14:55:47.841356Z",
     "start_time": "2023-10-31T14:55:47.316139Z"
    },
    "collapsed": true
   },
   "outputs": [],
   "source": [
    "import matplotlib.pyplot as plt\n",
    "import pandas as pd"
   ]
  },
  {
   "cell_type": "code",
   "execution_count": 2,
   "id": "456a4039bae92b05",
   "metadata": {
    "ExecuteTime": {
     "end_time": "2023-10-31T14:55:47.942148Z",
     "start_time": "2023-10-31T14:55:47.842295Z"
    }
   },
   "outputs": [
    {
     "data": {
      "text/html": [
       "<div>\n",
       "<style scoped>\n",
       "    .dataframe tbody tr th:only-of-type {\n",
       "        vertical-align: middle;\n",
       "    }\n",
       "\n",
       "    .dataframe tbody tr th {\n",
       "        vertical-align: top;\n",
       "    }\n",
       "\n",
       "    .dataframe thead th {\n",
       "        text-align: right;\n",
       "    }\n",
       "</style>\n",
       "<table border=\"1\" class=\"dataframe\">\n",
       "  <thead>\n",
       "    <tr style=\"text-align: right;\">\n",
       "      <th></th>\n",
       "      <th>date</th>\n",
       "      <th>store</th>\n",
       "      <th>item</th>\n",
       "      <th>sales</th>\n",
       "    </tr>\n",
       "  </thead>\n",
       "  <tbody>\n",
       "    <tr>\n",
       "      <th>0</th>\n",
       "      <td>2013-01-01</td>\n",
       "      <td>1</td>\n",
       "      <td>1</td>\n",
       "      <td>13</td>\n",
       "    </tr>\n",
       "    <tr>\n",
       "      <th>1</th>\n",
       "      <td>2013-01-02</td>\n",
       "      <td>1</td>\n",
       "      <td>1</td>\n",
       "      <td>11</td>\n",
       "    </tr>\n",
       "    <tr>\n",
       "      <th>2</th>\n",
       "      <td>2013-01-03</td>\n",
       "      <td>1</td>\n",
       "      <td>1</td>\n",
       "      <td>14</td>\n",
       "    </tr>\n",
       "    <tr>\n",
       "      <th>3</th>\n",
       "      <td>2013-01-04</td>\n",
       "      <td>1</td>\n",
       "      <td>1</td>\n",
       "      <td>13</td>\n",
       "    </tr>\n",
       "    <tr>\n",
       "      <th>4</th>\n",
       "      <td>2013-01-05</td>\n",
       "      <td>1</td>\n",
       "      <td>1</td>\n",
       "      <td>10</td>\n",
       "    </tr>\n",
       "  </tbody>\n",
       "</table>\n",
       "</div>"
      ],
      "text/plain": [
       "         date  store  item  sales\n",
       "0  2013-01-01      1     1     13\n",
       "1  2013-01-02      1     1     11\n",
       "2  2013-01-03      1     1     14\n",
       "3  2013-01-04      1     1     13\n",
       "4  2013-01-05      1     1     10"
      ]
     },
     "execution_count": 2,
     "metadata": {},
     "output_type": "execute_result"
    }
   ],
   "source": [
    "total_df = pd.read_csv(\"../data/train.csv\")\n",
    "total_df.head()"
   ]
  },
  {
   "cell_type": "code",
   "execution_count": 3,
   "id": "6256e61b463a2cbe",
   "metadata": {
    "ExecuteTime": {
     "end_time": "2023-10-31T14:55:47.947152Z",
     "start_time": "2023-10-31T14:55:47.942735Z"
    }
   },
   "outputs": [
    {
     "data": {
      "text/plain": [
       "array([ 1,  2,  3,  4,  5,  6,  7,  8,  9, 10, 11, 12, 13, 14, 15, 16, 17,\n",
       "       18, 19, 20, 21, 22, 23, 24, 25, 26, 27, 28, 29, 30, 31, 32, 33, 34,\n",
       "       35, 36, 37, 38, 39, 40, 41, 42, 43, 44, 45, 46, 47, 48, 49, 50])"
      ]
     },
     "execution_count": 3,
     "metadata": {},
     "output_type": "execute_result"
    }
   ],
   "source": [
    "total_df[\"item\"].unique()"
   ]
  },
  {
   "cell_type": "code",
   "execution_count": 4,
   "id": "a9e351e676a7c3de",
   "metadata": {
    "ExecuteTime": {
     "end_time": "2023-10-31T14:55:47.951865Z",
     "start_time": "2023-10-31T14:55:47.947697Z"
    }
   },
   "outputs": [
    {
     "data": {
      "text/plain": [
       "array([ 1,  2,  3,  4,  5,  6,  7,  8,  9, 10])"
      ]
     },
     "execution_count": 4,
     "metadata": {},
     "output_type": "execute_result"
    }
   ],
   "source": [
    "total_df[\"store\"].unique()"
   ]
  },
  {
   "cell_type": "markdown",
   "id": "b7d47e8c4c87f9b4",
   "metadata": {},
   "source": [
    "**This shows that there are 50 different items in 10 different stores ranging from item 1 to item 50**"
   ]
  },
  {
   "cell_type": "markdown",
   "id": "ef2f7b21268ca1d9",
   "metadata": {},
   "source": [
    "## Preprocessing: Splitting the \"date\" column into useful information"
   ]
  },
  {
   "cell_type": "code",
   "execution_count": 5,
   "id": "419cb83ecd7d58",
   "metadata": {
    "ExecuteTime": {
     "end_time": "2023-10-31T14:55:48.162480Z",
     "start_time": "2023-10-31T14:55:47.953347Z"
    }
   },
   "outputs": [],
   "source": [
    "total_df[\"year\"] = total_df[\"date\"].apply(lambda x: int(x.split(\"-\")[0]))"
   ]
  },
  {
   "cell_type": "code",
   "execution_count": 6,
   "id": "2cd212c4f6a4fd5d",
   "metadata": {
    "ExecuteTime": {
     "end_time": "2023-10-31T14:55:48.589421Z",
     "start_time": "2023-10-31T14:55:48.163411Z"
    }
   },
   "outputs": [],
   "source": [
    "total_df[\"month\"] = total_df[\"date\"].apply(lambda x: int(x.split(\"-\")[1]))\n",
    "total_df[\"day\"] = total_df[\"date\"].apply(lambda x: int(x.split(\"-\")[2]))"
   ]
  },
  {
   "cell_type": "code",
   "execution_count": 7,
   "id": "f52da4344bcfcc28",
   "metadata": {
    "ExecuteTime": {
     "end_time": "2023-10-31T14:55:48.594132Z",
     "start_time": "2023-10-31T14:55:48.591259Z"
    }
   },
   "outputs": [
    {
     "data": {
      "text/html": [
       "<div>\n",
       "<style scoped>\n",
       "    .dataframe tbody tr th:only-of-type {\n",
       "        vertical-align: middle;\n",
       "    }\n",
       "\n",
       "    .dataframe tbody tr th {\n",
       "        vertical-align: top;\n",
       "    }\n",
       "\n",
       "    .dataframe thead th {\n",
       "        text-align: right;\n",
       "    }\n",
       "</style>\n",
       "<table border=\"1\" class=\"dataframe\">\n",
       "  <thead>\n",
       "    <tr style=\"text-align: right;\">\n",
       "      <th></th>\n",
       "      <th>date</th>\n",
       "      <th>store</th>\n",
       "      <th>item</th>\n",
       "      <th>sales</th>\n",
       "      <th>year</th>\n",
       "      <th>month</th>\n",
       "      <th>day</th>\n",
       "    </tr>\n",
       "  </thead>\n",
       "  <tbody>\n",
       "    <tr>\n",
       "      <th>0</th>\n",
       "      <td>2013-01-01</td>\n",
       "      <td>1</td>\n",
       "      <td>1</td>\n",
       "      <td>13</td>\n",
       "      <td>2013</td>\n",
       "      <td>1</td>\n",
       "      <td>1</td>\n",
       "    </tr>\n",
       "    <tr>\n",
       "      <th>1</th>\n",
       "      <td>2013-01-02</td>\n",
       "      <td>1</td>\n",
       "      <td>1</td>\n",
       "      <td>11</td>\n",
       "      <td>2013</td>\n",
       "      <td>1</td>\n",
       "      <td>2</td>\n",
       "    </tr>\n",
       "    <tr>\n",
       "      <th>2</th>\n",
       "      <td>2013-01-03</td>\n",
       "      <td>1</td>\n",
       "      <td>1</td>\n",
       "      <td>14</td>\n",
       "      <td>2013</td>\n",
       "      <td>1</td>\n",
       "      <td>3</td>\n",
       "    </tr>\n",
       "    <tr>\n",
       "      <th>3</th>\n",
       "      <td>2013-01-04</td>\n",
       "      <td>1</td>\n",
       "      <td>1</td>\n",
       "      <td>13</td>\n",
       "      <td>2013</td>\n",
       "      <td>1</td>\n",
       "      <td>4</td>\n",
       "    </tr>\n",
       "    <tr>\n",
       "      <th>4</th>\n",
       "      <td>2013-01-05</td>\n",
       "      <td>1</td>\n",
       "      <td>1</td>\n",
       "      <td>10</td>\n",
       "      <td>2013</td>\n",
       "      <td>1</td>\n",
       "      <td>5</td>\n",
       "    </tr>\n",
       "  </tbody>\n",
       "</table>\n",
       "</div>"
      ],
      "text/plain": [
       "         date  store  item  sales  year  month  day\n",
       "0  2013-01-01      1     1     13  2013      1    1\n",
       "1  2013-01-02      1     1     11  2013      1    2\n",
       "2  2013-01-03      1     1     14  2013      1    3\n",
       "3  2013-01-04      1     1     13  2013      1    4\n",
       "4  2013-01-05      1     1     10  2013      1    5"
      ]
     },
     "execution_count": 7,
     "metadata": {},
     "output_type": "execute_result"
    }
   ],
   "source": [
    "total_df.head()"
   ]
  },
  {
   "cell_type": "code",
   "execution_count": 8,
   "id": "2381f16499e80920",
   "metadata": {
    "ExecuteTime": {
     "end_time": "2023-10-31T14:55:48.599417Z",
     "start_time": "2023-10-31T14:55:48.593871Z"
    }
   },
   "outputs": [],
   "source": [
    "store_1 = total_df[total_df[\"store\"] == 1]"
   ]
  },
  {
   "cell_type": "code",
   "execution_count": 9,
   "id": "a518fe65b7651c2b",
   "metadata": {
    "ExecuteTime": {
     "end_time": "2023-10-31T14:55:48.604217Z",
     "start_time": "2023-10-31T14:55:48.599980Z"
    }
   },
   "outputs": [
    {
     "data": {
      "text/html": [
       "<div>\n",
       "<style scoped>\n",
       "    .dataframe tbody tr th:only-of-type {\n",
       "        vertical-align: middle;\n",
       "    }\n",
       "\n",
       "    .dataframe tbody tr th {\n",
       "        vertical-align: top;\n",
       "    }\n",
       "\n",
       "    .dataframe thead th {\n",
       "        text-align: right;\n",
       "    }\n",
       "</style>\n",
       "<table border=\"1\" class=\"dataframe\">\n",
       "  <thead>\n",
       "    <tr style=\"text-align: right;\">\n",
       "      <th></th>\n",
       "      <th>date</th>\n",
       "      <th>store</th>\n",
       "      <th>item</th>\n",
       "      <th>sales</th>\n",
       "      <th>year</th>\n",
       "      <th>month</th>\n",
       "      <th>day</th>\n",
       "    </tr>\n",
       "  </thead>\n",
       "  <tbody>\n",
       "    <tr>\n",
       "      <th>0</th>\n",
       "      <td>2013-01-01</td>\n",
       "      <td>1</td>\n",
       "      <td>1</td>\n",
       "      <td>13</td>\n",
       "      <td>2013</td>\n",
       "      <td>1</td>\n",
       "      <td>1</td>\n",
       "    </tr>\n",
       "    <tr>\n",
       "      <th>1</th>\n",
       "      <td>2013-01-02</td>\n",
       "      <td>1</td>\n",
       "      <td>1</td>\n",
       "      <td>11</td>\n",
       "      <td>2013</td>\n",
       "      <td>1</td>\n",
       "      <td>2</td>\n",
       "    </tr>\n",
       "    <tr>\n",
       "      <th>2</th>\n",
       "      <td>2013-01-03</td>\n",
       "      <td>1</td>\n",
       "      <td>1</td>\n",
       "      <td>14</td>\n",
       "      <td>2013</td>\n",
       "      <td>1</td>\n",
       "      <td>3</td>\n",
       "    </tr>\n",
       "    <tr>\n",
       "      <th>3</th>\n",
       "      <td>2013-01-04</td>\n",
       "      <td>1</td>\n",
       "      <td>1</td>\n",
       "      <td>13</td>\n",
       "      <td>2013</td>\n",
       "      <td>1</td>\n",
       "      <td>4</td>\n",
       "    </tr>\n",
       "    <tr>\n",
       "      <th>4</th>\n",
       "      <td>2013-01-05</td>\n",
       "      <td>1</td>\n",
       "      <td>1</td>\n",
       "      <td>10</td>\n",
       "      <td>2013</td>\n",
       "      <td>1</td>\n",
       "      <td>5</td>\n",
       "    </tr>\n",
       "    <tr>\n",
       "      <th>...</th>\n",
       "      <td>...</td>\n",
       "      <td>...</td>\n",
       "      <td>...</td>\n",
       "      <td>...</td>\n",
       "      <td>...</td>\n",
       "      <td>...</td>\n",
       "      <td>...</td>\n",
       "    </tr>\n",
       "    <tr>\n",
       "      <th>896561</th>\n",
       "      <td>2017-12-27</td>\n",
       "      <td>1</td>\n",
       "      <td>50</td>\n",
       "      <td>38</td>\n",
       "      <td>2017</td>\n",
       "      <td>12</td>\n",
       "      <td>27</td>\n",
       "    </tr>\n",
       "    <tr>\n",
       "      <th>896562</th>\n",
       "      <td>2017-12-28</td>\n",
       "      <td>1</td>\n",
       "      <td>50</td>\n",
       "      <td>52</td>\n",
       "      <td>2017</td>\n",
       "      <td>12</td>\n",
       "      <td>28</td>\n",
       "    </tr>\n",
       "    <tr>\n",
       "      <th>896563</th>\n",
       "      <td>2017-12-29</td>\n",
       "      <td>1</td>\n",
       "      <td>50</td>\n",
       "      <td>59</td>\n",
       "      <td>2017</td>\n",
       "      <td>12</td>\n",
       "      <td>29</td>\n",
       "    </tr>\n",
       "    <tr>\n",
       "      <th>896564</th>\n",
       "      <td>2017-12-30</td>\n",
       "      <td>1</td>\n",
       "      <td>50</td>\n",
       "      <td>66</td>\n",
       "      <td>2017</td>\n",
       "      <td>12</td>\n",
       "      <td>30</td>\n",
       "    </tr>\n",
       "    <tr>\n",
       "      <th>896565</th>\n",
       "      <td>2017-12-31</td>\n",
       "      <td>1</td>\n",
       "      <td>50</td>\n",
       "      <td>45</td>\n",
       "      <td>2017</td>\n",
       "      <td>12</td>\n",
       "      <td>31</td>\n",
       "    </tr>\n",
       "  </tbody>\n",
       "</table>\n",
       "<p>91300 rows × 7 columns</p>\n",
       "</div>"
      ],
      "text/plain": [
       "              date  store  item  sales  year  month  day\n",
       "0       2013-01-01      1     1     13  2013      1    1\n",
       "1       2013-01-02      1     1     11  2013      1    2\n",
       "2       2013-01-03      1     1     14  2013      1    3\n",
       "3       2013-01-04      1     1     13  2013      1    4\n",
       "4       2013-01-05      1     1     10  2013      1    5\n",
       "...            ...    ...   ...    ...   ...    ...  ...\n",
       "896561  2017-12-27      1    50     38  2017     12   27\n",
       "896562  2017-12-28      1    50     52  2017     12   28\n",
       "896563  2017-12-29      1    50     59  2017     12   29\n",
       "896564  2017-12-30      1    50     66  2017     12   30\n",
       "896565  2017-12-31      1    50     45  2017     12   31\n",
       "\n",
       "[91300 rows x 7 columns]"
      ]
     },
     "execution_count": 9,
     "metadata": {},
     "output_type": "execute_result"
    }
   ],
   "source": [
    "store_1"
   ]
  },
  {
   "cell_type": "code",
   "execution_count": 10,
   "id": "c2f8854c1987822c",
   "metadata": {
    "ExecuteTime": {
     "end_time": "2023-10-31T14:55:48.608013Z",
     "start_time": "2023-10-31T14:55:48.604339Z"
    }
   },
   "outputs": [
    {
     "data": {
      "text/plain": [
       "array([1])"
      ]
     },
     "execution_count": 10,
     "metadata": {},
     "output_type": "execute_result"
    }
   ],
   "source": [
    "store_1[\"store\"].unique()"
   ]
  },
  {
   "cell_type": "code",
   "execution_count": 11,
   "id": "70532cbb109c76c8",
   "metadata": {
    "ExecuteTime": {
     "end_time": "2023-10-31T14:55:48.612340Z",
     "start_time": "2023-10-31T14:55:48.607427Z"
    }
   },
   "outputs": [],
   "source": [
    "store_1_item_1 = store_1[store_1[\"item\"] == 1]"
   ]
  },
  {
   "cell_type": "code",
   "execution_count": 12,
   "id": "ebe760e1e8d449cc",
   "metadata": {
    "ExecuteTime": {
     "end_time": "2023-10-31T14:55:48.618261Z",
     "start_time": "2023-10-31T14:55:48.611348Z"
    }
   },
   "outputs": [
    {
     "data": {
      "text/html": [
       "<div>\n",
       "<style scoped>\n",
       "    .dataframe tbody tr th:only-of-type {\n",
       "        vertical-align: middle;\n",
       "    }\n",
       "\n",
       "    .dataframe tbody tr th {\n",
       "        vertical-align: top;\n",
       "    }\n",
       "\n",
       "    .dataframe thead th {\n",
       "        text-align: right;\n",
       "    }\n",
       "</style>\n",
       "<table border=\"1\" class=\"dataframe\">\n",
       "  <thead>\n",
       "    <tr style=\"text-align: right;\">\n",
       "      <th></th>\n",
       "      <th>date</th>\n",
       "      <th>store</th>\n",
       "      <th>item</th>\n",
       "      <th>sales</th>\n",
       "      <th>year</th>\n",
       "      <th>month</th>\n",
       "      <th>day</th>\n",
       "    </tr>\n",
       "  </thead>\n",
       "  <tbody>\n",
       "    <tr>\n",
       "      <th>0</th>\n",
       "      <td>2013-01-01</td>\n",
       "      <td>1</td>\n",
       "      <td>1</td>\n",
       "      <td>13</td>\n",
       "      <td>2013</td>\n",
       "      <td>1</td>\n",
       "      <td>1</td>\n",
       "    </tr>\n",
       "    <tr>\n",
       "      <th>1</th>\n",
       "      <td>2013-01-02</td>\n",
       "      <td>1</td>\n",
       "      <td>1</td>\n",
       "      <td>11</td>\n",
       "      <td>2013</td>\n",
       "      <td>1</td>\n",
       "      <td>2</td>\n",
       "    </tr>\n",
       "    <tr>\n",
       "      <th>2</th>\n",
       "      <td>2013-01-03</td>\n",
       "      <td>1</td>\n",
       "      <td>1</td>\n",
       "      <td>14</td>\n",
       "      <td>2013</td>\n",
       "      <td>1</td>\n",
       "      <td>3</td>\n",
       "    </tr>\n",
       "    <tr>\n",
       "      <th>3</th>\n",
       "      <td>2013-01-04</td>\n",
       "      <td>1</td>\n",
       "      <td>1</td>\n",
       "      <td>13</td>\n",
       "      <td>2013</td>\n",
       "      <td>1</td>\n",
       "      <td>4</td>\n",
       "    </tr>\n",
       "    <tr>\n",
       "      <th>4</th>\n",
       "      <td>2013-01-05</td>\n",
       "      <td>1</td>\n",
       "      <td>1</td>\n",
       "      <td>10</td>\n",
       "      <td>2013</td>\n",
       "      <td>1</td>\n",
       "      <td>5</td>\n",
       "    </tr>\n",
       "  </tbody>\n",
       "</table>\n",
       "</div>"
      ],
      "text/plain": [
       "         date  store  item  sales  year  month  day\n",
       "0  2013-01-01      1     1     13  2013      1    1\n",
       "1  2013-01-02      1     1     11  2013      1    2\n",
       "2  2013-01-03      1     1     14  2013      1    3\n",
       "3  2013-01-04      1     1     13  2013      1    4\n",
       "4  2013-01-05      1     1     10  2013      1    5"
      ]
     },
     "execution_count": 12,
     "metadata": {},
     "output_type": "execute_result"
    }
   ],
   "source": [
    "store_1_item_1.head()"
   ]
  },
  {
   "cell_type": "markdown",
   "id": "609d30f6e766d711",
   "metadata": {},
   "source": [
    "## Visualization: Plotting the sales value for (store_1, item_1) to check seasonality of data"
   ]
  },
  {
   "cell_type": "code",
   "execution_count": 13,
   "id": "bb4ba25c8fbacaff",
   "metadata": {
    "ExecuteTime": {
     "end_time": "2023-10-31T14:55:48.685908Z",
     "start_time": "2023-10-31T14:55:48.613449Z"
    }
   },
   "outputs": [
    {
     "data": {
      "image/png": "[encoded data removed]",
      "text/plain": [
       "<Figure size 640x480 with 1 Axes>"
      ]
     },
     "metadata": {},
     "output_type": "display_data"
    }
   ],
   "source": [
    "plt.plot(store_1_item_1[\"sales\"])\n",
    "plt.xlabel(\"Date\")\n",
    "plt.ylabel(\"Sales\")\n",
    "plt.title(\"Plot for Sales of item1 in store1\")\n",
    "plt.show()"
   ]
  },
  {
   "cell_type": "markdown",
   "id": "14b49a98628174a",
   "metadata": {},
   "source": []
  },
  {
   "cell_type": "markdown",
   "id": "4380d54dadf72286",
   "metadata": {},
   "source": [
    "**The plot indicates that the data is a time-series data as well as a periodic data. The fact that it is time-series, we can use ARIMA model and the seasonal property indicates that SARIMA model can be used.**\n",
    "\n",
    "**Also we see that the data represents a stationary time-series data. We will also formally check the stationarity using Augmented Dickey-Fuller (ADF) test.**"
   ]
  },
  {
   "cell_type": "markdown",
   "source": [
    "## Plotting trend in (store_1, item_1) sales in 1 year time frame"
   ],
   "metadata": {
    "collapsed": false
   },
   "id": "9ca4a5c0846d73a6"
  },
  {
   "cell_type": "code",
   "execution_count": 28,
   "outputs": [
    {
     "data": {
      "text/plain": "<Figure size 640x480 with 1 Axes>",
      "image/png": "[encoded data removed]"
     },
     "metadata": {},
     "output_type": "display_data"
    }
   ],
   "source": [
    "plot_record = store_1_item_1.iloc[:365]\n",
    "plt.plot(plot_record[\"sales\"])\n",
    "plt.xlabel(\"Date\")\n",
    "plt.ylabel(\"Sales\")\n",
    "plt.title(\"Plot for Sales of item1 in store1 during the year 2013\")\n",
    "plt.show()"
   ],
   "metadata": {
    "collapsed": false,
    "ExecuteTime": {
     "start_time": "2023-10-31T16:07:50.044991Z"
    }
   },
   "id": "b5af0656bcd21569"
  },
  {
   "cell_type": "markdown",
   "source": [
    "### Plotting trend in (store_1, item_1) sales in 1 month time frame"
   ],
   "metadata": {
    "collapsed": false
   },
   "id": "d73d4a37383311e6"
  },
  {
   "cell_type": "code",
   "execution_count": 30,
   "outputs": [
    {
     "data": {
      "text/plain": "<Figure size 640x480 with 1 Axes>",
      "image/png": "[encoded data removed]"
     },
     "metadata": {},
     "output_type": "display_data"
    }
   ],
   "source": [
    "plot_record = store_1_item_1.iloc[:31]\n",
    "plt.plot(plot_record[\"sales\"])\n",
    "plt.xlabel(\"Date\")\n",
    "plt.ylabel(\"Sales\")\n",
    "plt.title(\"Plot for Sales of item1 in store1 during the year 2013\")\n",
    "plt.show()"
   ],
   "metadata": {
    "collapsed": false,
    "ExecuteTime": {
     "end_time": "2023-10-31T16:17:00.701194Z",
     "start_time": "2023-10-31T16:17:00.644907Z"
    }
   },
   "id": "462c1b10564606d9"
  },
  {
   "cell_type": "code",
   "execution_count": 26,
   "id": "d5902d73e51c86e8",
   "metadata": {
    "ExecuteTime": {
     "end_time": "2023-10-31T15:21:16.196102Z",
     "start_time": "2023-10-31T15:21:16.176940Z"
    }
   },
   "outputs": [
    {
     "data": {
      "text/html": [
       "<div>\n",
       "<style scoped>\n",
       "    .dataframe tbody tr th:only-of-type {\n",
       "        vertical-align: middle;\n",
       "    }\n",
       "\n",
       "    .dataframe tbody tr th {\n",
       "        vertical-align: top;\n",
       "    }\n",
       "\n",
       "    .dataframe thead th {\n",
       "        text-align: right;\n",
       "    }\n",
       "</style>\n",
       "<table border=\"1\" class=\"dataframe\">\n",
       "  <thead>\n",
       "    <tr style=\"text-align: right;\">\n",
       "      <th></th>\n",
       "      <th>date</th>\n",
       "      <th>store</th>\n",
       "      <th>item</th>\n",
       "      <th>sales</th>\n",
       "      <th>year</th>\n",
       "      <th>month</th>\n",
       "      <th>day</th>\n",
       "    </tr>\n",
       "  </thead>\n",
       "  <tbody>\n",
       "    <tr>\n",
       "      <th>0</th>\n",
       "      <td>2013-01-01</td>\n",
       "      <td>1</td>\n",
       "      <td>1</td>\n",
       "      <td>13</td>\n",
       "      <td>2013</td>\n",
       "      <td>1</td>\n",
       "      <td>1</td>\n",
       "    </tr>\n",
       "    <tr>\n",
       "      <th>1</th>\n",
       "      <td>2013-01-02</td>\n",
       "      <td>1</td>\n",
       "      <td>1</td>\n",
       "      <td>11</td>\n",
       "      <td>2013</td>\n",
       "      <td>1</td>\n",
       "      <td>2</td>\n",
       "    </tr>\n",
       "    <tr>\n",
       "      <th>2</th>\n",
       "      <td>2013-01-03</td>\n",
       "      <td>1</td>\n",
       "      <td>1</td>\n",
       "      <td>14</td>\n",
       "      <td>2013</td>\n",
       "      <td>1</td>\n",
       "      <td>3</td>\n",
       "    </tr>\n",
       "  </tbody>\n",
       "</table>\n",
       "</div>"
      ],
      "text/plain": [
       "        date  store  item  sales  year  month  day\n",
       "0 2013-01-01      1     1     13  2013      1    1\n",
       "1 2013-01-02      1     1     11  2013      1    2\n",
       "2 2013-01-03      1     1     14  2013      1    3"
      ]
     },
     "execution_count": 26,
     "metadata": {},
     "output_type": "execute_result"
    }
   ],
   "source": [
    "total_df[\"date\"] = pd.to_datetime(total_df[\"date\"])\n",
    "total_df.head(3)"
   ]
  },
  {
   "cell_type": "code",
   "execution_count": 22,
   "id": "844c6edb481e53fb",
   "metadata": {
    "ExecuteTime": {
     "end_time": "2023-10-31T15:14:36.399421Z",
     "start_time": "2023-10-31T15:14:36.222045Z"
    }
   },
   "outputs": [
    {
     "name": "stdout",
     "output_type": "stream",
     "text": [
      "p-value:  0.022569380626571333\n"
     ]
    }
   ],
   "source": [
    "from statsmodels.tsa.stattools import adfuller\n",
    "x = store_1_item_1[\"sales\"].values\n",
    "result = adfuller(x)\n",
    "print(\"p-value: \", result[1])"
   ]
  },
  {
   "cell_type": "markdown",
   "id": "4b39a0e5d67add4a",
   "metadata": {},
   "source": [
    "## Hypothesis testing with Level of Confidence as 0.05\n",
    "Null Hypothesis, H0: The time series data has unit root => non-stationary\n",
    "\n",
    "Alt Hypothesis, H1: The time series doesn't have a unit root => stationary"
   ]
  },
  {
   "cell_type": "code",
   "execution_count": 23,
   "id": "12e2e79223e5671c",
   "metadata": {
    "ExecuteTime": {
     "end_time": "2023-10-31T15:18:11.669278Z",
     "start_time": "2023-10-31T15:18:11.657281Z"
    }
   },
   "outputs": [
    {
     "name": "stdout",
     "output_type": "stream",
     "text": [
      "Rejecting null hypothesis => stationary data\n"
     ]
    }
   ],
   "source": [
    "alpha = 0.05\n",
    "if result[1] >= 0.05:\n",
    "    print(\"Fail to reject null hypothesis => non-stationary data\")\n",
    "else:\n",
    "    print(\"Rejecting null hypothesis => stationary data\")"
   ]
  },
  {
   "cell_type": "markdown",
   "id": "e690abebf6b0a4df",
   "metadata": {},
   "source": [
    "### The time series is hence stationary!"
   ]
  },
  {
   "cell_type": "markdown",
   "id": "9e45e15c96710d3a",
   "metadata": {},
   "source": [
    "## Visualization: Box Plot for Sales Distribution"
   ]
  },
  {
   "cell_type": "code",
   "execution_count": 24,
   "id": "a24fc6bb87d07632",
   "metadata": {
    "ExecuteTime": {
     "end_time": "2023-10-31T15:19:52.121185Z",
     "start_time": "2023-10-31T15:19:52.054981Z"
    }
   },
   "outputs": [
    {
     "data": {
      "image/png": "[encoded data removed]",
      "text/plain": [
       "<Figure size 640x480 with 1 Axes>"
      ]
     },
     "metadata": {},
     "output_type": "display_data"
    }
   ],
   "source": [
    "plt.boxplot(total_df[\"sales\"])\n",
    "plt.show()"
   ]
  },
  {
   "cell_type": "markdown",
   "id": "c6c0b412b4ecca12",
   "metadata": {},
   "source": [
    "Even though we see datapoints for sales data lying above the 1.5*IQR margin, these datapoints lead to the periodicity and flactuation in a time-series data"
   ]
  },
  {
   "cell_type": "code",
   "execution_count": 25,
   "id": "4cf360b672736a9a",
   "metadata": {
    "ExecuteTime": {
     "end_time": "2023-10-31T15:19:55.102243Z",
     "start_time": "2023-10-31T15:19:55.072069Z"
    }
   },
   "outputs": [
    {
     "data": {
      "text/plain": [
       "count    913000.000000\n",
       "mean         52.250287\n",
       "std          28.801144\n",
       "min           0.000000\n",
       "25%          30.000000\n",
       "50%          47.000000\n",
       "75%          70.000000\n",
       "max         231.000000\n",
       "Name: sales, dtype: float64"
      ]
     },
     "execution_count": 25,
     "metadata": {},
     "output_type": "execute_result"
    }
   ],
   "source": [
    "total_df[\"sales\"].describe()"
   ]
  },
  {
   "cell_type": "code",
   "execution_count": null,
   "id": "1c1bb9fa890df1f0",
   "metadata": {
    "ExecuteTime": {
     "start_time": "2023-10-31T14:56:27.112390Z"
    }
   },
   "outputs": [],
   "source": []
  }
 ],
 "metadata": {
  "kernelspec": {
   "display_name": "Python 3 (ipykernel)",
   "language": "python",
   "name": "python3"
  },
  "language_info": {
   "codemirror_mode": {
    "name": "ipython",
    "version": 3
   },
   "file_extension": ".py",
   "mimetype": "text/x-python",
   "name": "python",
   "nbconvert_exporter": "python",
   "pygments_lexer": "ipython3",
   "version": "3.11.4"
  }
 },
 "nbformat": 4,
 "nbformat_minor": 5
}
